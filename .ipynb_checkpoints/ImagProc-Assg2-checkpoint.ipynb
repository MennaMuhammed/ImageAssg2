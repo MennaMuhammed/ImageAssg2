{
 "cells": [
  {
   "cell_type": "markdown",
   "metadata": {},
   "source": [
    "# Image Processing 2 - Morphological Filtering\n",
    "\n",
    "\n",
    "### منة الله محمد عبد الرحمن  1401443 / 43898 - menna.muhammed198@gmail.com\n",
    "### منة عادل سيد 1301388 / 43899 - Mennah_943@live.com"
   ]
  },
  {
   "cell_type": "markdown",
   "metadata": {},
   "source": [
    "# 2- Script"
   ]
  },
  {
   "cell_type": "code",
   "execution_count": 4,
   "metadata": {
    "collapsed": true
   },
   "outputs": [],
   "source": [
    "%matplotlib inline\n",
    "import cv2\n",
    "import matplotlib.pyplot as plt\n",
    "import numpy as np\n",
    "plt.rcParams['xtick.major.size'] = 0\n",
    "plt.rcParams['ytick.major.size'] = 0\n",
    "plt.rcParams['xtick.labelsize'] = 0\n",
    "plt.rcParams['ytick.labelsize'] = 0"
   ]
  },
  {
   "cell_type": "code",
   "execution_count": 5,
   "metadata": {
    "collapsed": true
   },
   "outputs": [],
   "source": [
    "def showImg(img):\n",
    "    ##temp = cv2.cvtColor(img, cv2.COLOR_GRAY2RGB)\n",
    "    testimageplot = plt.imshow(temp,'gray')\n",
    "    return temp"
   ]
  },
  {
   "cell_type": "markdown",
   "metadata": {},
   "source": [
    "## 2.1- Dilation"
   ]
  },
  {
   "cell_type": "code",
   "execution_count": 6,
   "metadata": {
    "collapsed": true
   },
   "outputs": [],
   "source": [
    "def dilation_square(img,ksize):\n",
    "    #kernel = np.ones((ksize,ksize),np.uint8)\n",
    "    kernel = cv2.getStructuringElement(cv2.MORPH_RECT,(ksize,ksize))\n",
    "    t = cv2.dilate(img,kernel,iterations=1)\n",
    "    return t\n",
    "def dilation_circle(img,ksize):\n",
    "    #kernel = np.ones((ksize,ksize),np.uint8)\n",
    "    kernel = cv2.getStructuringElement(cv2.MORPH_ELLIPSE,(ksize,ksize))\n",
    "    t = cv2.dilate(img,kernel,iterations=1)\n",
    "    return t\n",
    "def dilation_cross(img,ksize):\n",
    "    #kernel = np.ones((ksize,ksize),np.uint8)\n",
    "    kernel = cv2.getStructuringElement(cv2.MORPH_CROSS,(ksize,ksize))\n",
    "    t = cv2.dilate(img,kernel,iterations=1)\n",
    "    return t\n",
    "def edge_dilation(img, ksize):\n",
    "    image = (255-img)\n",
    "    a = dilation_square(image, ksize)\n",
    "    return a"
   ]
  },
  {
   "cell_type": "markdown",
   "metadata": {},
   "source": [
    "### 1- Square-Circle image"
   ]
  },
  {
   "cell_type": "code",
   "execution_count": 8,
   "metadata": {},
   "outputs": [
    {
     "ename": "TypeError",
     "evalue": "Expected cv::UMat for argument 'src'",
     "output_type": "error",
     "traceback": [
      "\u001b[1;31m---------------------------------------------------------------------------\u001b[0m",
      "\u001b[1;31mTypeError\u001b[0m                                 Traceback (most recent call last)",
      "\u001b[1;32m<ipython-input-8-78a37a73589e>\u001b[0m in \u001b[0;36m<module>\u001b[1;34m()\u001b[0m\n\u001b[0;32m      1\u001b[0m \u001b[0msqcir\u001b[0m\u001b[1;33m=\u001b[0m \u001b[0mcv2\u001b[0m\u001b[1;33m.\u001b[0m\u001b[0mimread\u001b[0m\u001b[1;33m(\u001b[0m\u001b[1;34m'image2_folder/Square-circle.png'\u001b[0m\u001b[1;33m,\u001b[0m\u001b[1;36m0\u001b[0m\u001b[1;33m)\u001b[0m\u001b[1;33m\u001b[0m\u001b[0m\n\u001b[0;32m      2\u001b[0m \u001b[0mbsqcir\u001b[0m \u001b[1;33m=\u001b[0m \u001b[0mcv2\u001b[0m\u001b[1;33m.\u001b[0m\u001b[0mthreshold\u001b[0m\u001b[1;33m(\u001b[0m\u001b[0msqcir\u001b[0m\u001b[1;33m,\u001b[0m\u001b[1;36m127\u001b[0m\u001b[1;33m,\u001b[0m\u001b[1;36m255\u001b[0m\u001b[1;33m,\u001b[0m\u001b[0mcv2\u001b[0m\u001b[1;33m.\u001b[0m\u001b[0mTHRESH_BINARY\u001b[0m\u001b[1;33m)\u001b[0m\u001b[1;33m\u001b[0m\u001b[0m\n\u001b[1;32m----> 3\u001b[1;33m \u001b[0mx\u001b[0m \u001b[1;33m=\u001b[0m \u001b[0mshowImg\u001b[0m\u001b[1;33m(\u001b[0m\u001b[0mbsqcir\u001b[0m\u001b[1;33m)\u001b[0m\u001b[1;33m\u001b[0m\u001b[0m\n\u001b[0m\u001b[0;32m      4\u001b[0m \u001b[0mxt\u001b[0m \u001b[1;33m=\u001b[0m \u001b[0mplt\u001b[0m\u001b[1;33m.\u001b[0m\u001b[0mtitle\u001b[0m\u001b[1;33m(\u001b[0m\u001b[1;34m'Original'\u001b[0m\u001b[1;33m)\u001b[0m\u001b[1;33m\u001b[0m\u001b[0m\n",
      "\u001b[1;32m<ipython-input-5-96c5da908da7>\u001b[0m in \u001b[0;36mshowImg\u001b[1;34m(img)\u001b[0m\n\u001b[0;32m      1\u001b[0m \u001b[1;32mdef\u001b[0m \u001b[0mshowImg\u001b[0m\u001b[1;33m(\u001b[0m\u001b[0mimg\u001b[0m\u001b[1;33m)\u001b[0m\u001b[1;33m:\u001b[0m\u001b[1;33m\u001b[0m\u001b[0m\n\u001b[1;32m----> 2\u001b[1;33m     \u001b[0mtemp\u001b[0m \u001b[1;33m=\u001b[0m \u001b[0mcv2\u001b[0m\u001b[1;33m.\u001b[0m\u001b[0mcvtColor\u001b[0m\u001b[1;33m(\u001b[0m\u001b[0mimg\u001b[0m\u001b[1;33m,\u001b[0m \u001b[0mcv2\u001b[0m\u001b[1;33m.\u001b[0m\u001b[0mCOLOR_GRAY2RGB\u001b[0m\u001b[1;33m)\u001b[0m\u001b[1;33m\u001b[0m\u001b[0m\n\u001b[0m\u001b[0;32m      3\u001b[0m     \u001b[0mtestimageplot\u001b[0m \u001b[1;33m=\u001b[0m \u001b[0mplt\u001b[0m\u001b[1;33m.\u001b[0m\u001b[0mimshow\u001b[0m\u001b[1;33m(\u001b[0m\u001b[0mtemp\u001b[0m\u001b[1;33m)\u001b[0m\u001b[1;33m\u001b[0m\u001b[0m\n\u001b[0;32m      4\u001b[0m     \u001b[1;32mreturn\u001b[0m \u001b[0mtemp\u001b[0m\u001b[1;33m\u001b[0m\u001b[0m\n",
      "\u001b[1;31mTypeError\u001b[0m: Expected cv::UMat for argument 'src'"
     ]
    }
   ],
   "source": [
    "sqcir= cv2.imread('image2_folder/Square-circle.png',0)\n",
    "bsqcir = cv2.threshold(sqcir,127,255,cv2.THRESH_BINARY)\n",
    "x = showImg(bsqcir)\n",
    "xt = plt.title('Original')"
   ]
  },
  {
   "cell_type": "code",
   "execution_count": null,
   "metadata": {},
   "outputs": [],
   "source": [
    "dsqcir1 = dilation_square(sqcir,15)\n",
    "y = showImg(dsqcir1)\n",
    "yt = plt.title('Diluted square structure')"
   ]
  },
  {
   "cell_type": "code",
   "execution_count": null,
   "metadata": {},
   "outputs": [],
   "source": [
    "dsqcir2 = dilation_circle(sqcir,15)\n",
    "y = showImg(dsqcir2)\n",
    "yt = plt.title('Diluted circle structure')"
   ]
  },
  {
   "cell_type": "markdown",
   "metadata": {},
   "source": [
    "#### Compare and contrast your results. Explain your Observations."
   ]
  },
  {
   "cell_type": "markdown",
   "metadata": {},
   "source": [
    "### 2- CameraMan image"
   ]
  },
  {
   "cell_type": "code",
   "execution_count": null,
   "metadata": {},
   "outputs": [],
   "source": [
    "caman= cv2.imread('image2_folder/Cameraman.png',0)\n",
    "x = showImg(caman)\n",
    "xt = plt.title('Original')"
   ]
  },
  {
   "cell_type": "code",
   "execution_count": null,
   "metadata": {},
   "outputs": [],
   "source": [
    "dcaman = dilation_circle(caman,3)\n",
    "y = showImg(dcaman)\n",
    "yt = plt.title('Camerman denoised')"
   ]
  },
  {
   "cell_type": "markdown",
   "metadata": {},
   "source": [
    "### 3- Lady image"
   ]
  },
  {
   "cell_type": "code",
   "execution_count": null,
   "metadata": {},
   "outputs": [],
   "source": [
    "lady= cv2.imread('image2_folder/Lady.png',0)\n",
    "x = showImg(lady)\n",
    "xt = plt.title('Original')"
   ]
  },
  {
   "cell_type": "code",
   "execution_count": null,
   "metadata": {},
   "outputs": [],
   "source": [
    "dlady = edge_dilation(lady,5)\n",
    "y = showImg(dlady)\n",
    "yt = plt.title('Lady edge')"
   ]
  },
  {
   "cell_type": "markdown",
   "metadata": {},
   "source": [
    "#### Describe how you perform edge detection using dilation"
   ]
  },
  {
   "cell_type": "markdown",
   "metadata": {},
   "source": [
    "## 2.2- Erosion"
   ]
  },
  {
   "cell_type": "code",
   "execution_count": null,
   "metadata": {
    "collapsed": true
   },
   "outputs": [],
   "source": [
    "def erode_square(img,ksize):\n",
    "    kernel = cv2.getStructuringElement(cv2.MORPH_RECT,(ksize,ksize))\n",
    "    t = cv2.erode(img,kernel,iterations=1)\n",
    "    return t\n",
    "def erode_circle(img,ksize):\n",
    "    kernel = cv2.getStructuringElement(cv2.MORPH_ELLIPSE,(ksize,ksize))\n",
    "    t = cv2.erode(img,kernel,iterations=1)\n",
    "    return t\n",
    "def erode_cross(img,ksize):\n",
    "    kernel = cv2.getStructuringElement(cv2.MORPH_CROSS,(ksize,ksize))\n",
    "    t = cv2.erode(img,kernel,iterations=1)\n",
    "    return t"
   ]
  },
  {
   "cell_type": "code",
   "execution_count": null,
   "metadata": {
    "collapsed": true
   },
   "outputs": [],
   "source": []
  }
 ],
 "metadata": {
  "kernelspec": {
   "display_name": "Python 3",
   "language": "python",
   "name": "python3"
  },
  "language_info": {
   "codemirror_mode": {
    "name": "ipython",
    "version": 3
   },
   "file_extension": ".py",
   "mimetype": "text/x-python",
   "name": "python",
   "nbconvert_exporter": "python",
   "pygments_lexer": "ipython3",
   "version": "3.6.3"
  }
 },
 "nbformat": 4,
 "nbformat_minor": 2
}
